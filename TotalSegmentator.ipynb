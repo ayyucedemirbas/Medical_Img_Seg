{
  "nbformat": 4,
  "nbformat_minor": 0,
  "metadata": {
    "colab": {
      "provenance": [],
      "gpuType": "T4",
      "authorship_tag": "ABX9TyMaMP6Wt3IYO/p6kUmTnN2/",
      "include_colab_link": true
    },
    "kernelspec": {
      "name": "python3",
      "display_name": "Python 3"
    },
    "language_info": {
      "name": "python"
    },
    "accelerator": "GPU",
    "widgets": {
      "application/vnd.jupyter.widget-state+json": {
        "273bb26698eb4dc1b07675bd9a10ecda": {
          "model_module": "@jupyter-widgets/controls",
          "model_name": "HBoxModel",
          "model_module_version": "1.5.0",
          "state": {
            "_dom_classes": [],
            "_model_module": "@jupyter-widgets/controls",
            "_model_module_version": "1.5.0",
            "_model_name": "HBoxModel",
            "_view_count": null,
            "_view_module": "@jupyter-widgets/controls",
            "_view_module_version": "1.5.0",
            "_view_name": "HBoxView",
            "box_style": "",
            "children": [
              "IPY_MODEL_5e89ee3eca3f4e4da1ec3b764ed21029",
              "IPY_MODEL_2c848d65537c47fdbf70bbb409abc139",
              "IPY_MODEL_5819decc8f294decaecc4067fb8a3bbf"
            ],
            "layout": "IPY_MODEL_63f038af1bb44bf490ad78fc5735c43e"
          }
        },
        "5e89ee3eca3f4e4da1ec3b764ed21029": {
          "model_module": "@jupyter-widgets/controls",
          "model_name": "HTMLModel",
          "model_module_version": "1.5.0",
          "state": {
            "_dom_classes": [],
            "_model_module": "@jupyter-widgets/controls",
            "_model_module_version": "1.5.0",
            "_model_name": "HTMLModel",
            "_view_count": null,
            "_view_module": "@jupyter-widgets/controls",
            "_view_module_version": "1.5.0",
            "_view_name": "HTMLView",
            "description": "",
            "description_tooltip": null,
            "layout": "IPY_MODEL_11d6b2ecced5492fa2ef32dc3bec3395",
            "placeholder": "​",
            "style": "IPY_MODEL_32069f6f467d46d38e7d53ad6c50daa3",
            "value": "100%"
          }
        },
        "2c848d65537c47fdbf70bbb409abc139": {
          "model_module": "@jupyter-widgets/controls",
          "model_name": "FloatProgressModel",
          "model_module_version": "1.5.0",
          "state": {
            "_dom_classes": [],
            "_model_module": "@jupyter-widgets/controls",
            "_model_module_version": "1.5.0",
            "_model_name": "FloatProgressModel",
            "_view_count": null,
            "_view_module": "@jupyter-widgets/controls",
            "_view_module_version": "1.5.0",
            "_view_name": "ProgressView",
            "bar_style": "success",
            "description": "",
            "description_tooltip": null,
            "layout": "IPY_MODEL_7e23b4662fec413aa31461d7908c215a",
            "max": 117,
            "min": 0,
            "orientation": "horizontal",
            "style": "IPY_MODEL_e64e4da005f8443aa7dd1f97453b7f1a",
            "value": 117
          }
        },
        "5819decc8f294decaecc4067fb8a3bbf": {
          "model_module": "@jupyter-widgets/controls",
          "model_name": "HTMLModel",
          "model_module_version": "1.5.0",
          "state": {
            "_dom_classes": [],
            "_model_module": "@jupyter-widgets/controls",
            "_model_module_version": "1.5.0",
            "_model_name": "HTMLModel",
            "_view_count": null,
            "_view_module": "@jupyter-widgets/controls",
            "_view_module_version": "1.5.0",
            "_view_name": "HTMLView",
            "description": "",
            "description_tooltip": null,
            "layout": "IPY_MODEL_5afd93ad8a134aaa81bf30a4be09dcb3",
            "placeholder": "​",
            "style": "IPY_MODEL_c500ae3bab974c2995861aa04f08f2d3",
            "value": " 117/117 [01:48&lt;00:00,  2.71it/s]"
          }
        },
        "63f038af1bb44bf490ad78fc5735c43e": {
          "model_module": "@jupyter-widgets/base",
          "model_name": "LayoutModel",
          "model_module_version": "1.2.0",
          "state": {
            "_model_module": "@jupyter-widgets/base",
            "_model_module_version": "1.2.0",
            "_model_name": "LayoutModel",
            "_view_count": null,
            "_view_module": "@jupyter-widgets/base",
            "_view_module_version": "1.2.0",
            "_view_name": "LayoutView",
            "align_content": null,
            "align_items": null,
            "align_self": null,
            "border": null,
            "bottom": null,
            "display": null,
            "flex": null,
            "flex_flow": null,
            "grid_area": null,
            "grid_auto_columns": null,
            "grid_auto_flow": null,
            "grid_auto_rows": null,
            "grid_column": null,
            "grid_gap": null,
            "grid_row": null,
            "grid_template_areas": null,
            "grid_template_columns": null,
            "grid_template_rows": null,
            "height": null,
            "justify_content": null,
            "justify_items": null,
            "left": null,
            "margin": null,
            "max_height": null,
            "max_width": null,
            "min_height": null,
            "min_width": null,
            "object_fit": null,
            "object_position": null,
            "order": null,
            "overflow": null,
            "overflow_x": null,
            "overflow_y": null,
            "padding": null,
            "right": null,
            "top": null,
            "visibility": null,
            "width": null
          }
        },
        "11d6b2ecced5492fa2ef32dc3bec3395": {
          "model_module": "@jupyter-widgets/base",
          "model_name": "LayoutModel",
          "model_module_version": "1.2.0",
          "state": {
            "_model_module": "@jupyter-widgets/base",
            "_model_module_version": "1.2.0",
            "_model_name": "LayoutModel",
            "_view_count": null,
            "_view_module": "@jupyter-widgets/base",
            "_view_module_version": "1.2.0",
            "_view_name": "LayoutView",
            "align_content": null,
            "align_items": null,
            "align_self": null,
            "border": null,
            "bottom": null,
            "display": null,
            "flex": null,
            "flex_flow": null,
            "grid_area": null,
            "grid_auto_columns": null,
            "grid_auto_flow": null,
            "grid_auto_rows": null,
            "grid_column": null,
            "grid_gap": null,
            "grid_row": null,
            "grid_template_areas": null,
            "grid_template_columns": null,
            "grid_template_rows": null,
            "height": null,
            "justify_content": null,
            "justify_items": null,
            "left": null,
            "margin": null,
            "max_height": null,
            "max_width": null,
            "min_height": null,
            "min_width": null,
            "object_fit": null,
            "object_position": null,
            "order": null,
            "overflow": null,
            "overflow_x": null,
            "overflow_y": null,
            "padding": null,
            "right": null,
            "top": null,
            "visibility": null,
            "width": null
          }
        },
        "32069f6f467d46d38e7d53ad6c50daa3": {
          "model_module": "@jupyter-widgets/controls",
          "model_name": "DescriptionStyleModel",
          "model_module_version": "1.5.0",
          "state": {
            "_model_module": "@jupyter-widgets/controls",
            "_model_module_version": "1.5.0",
            "_model_name": "DescriptionStyleModel",
            "_view_count": null,
            "_view_module": "@jupyter-widgets/base",
            "_view_module_version": "1.2.0",
            "_view_name": "StyleView",
            "description_width": ""
          }
        },
        "7e23b4662fec413aa31461d7908c215a": {
          "model_module": "@jupyter-widgets/base",
          "model_name": "LayoutModel",
          "model_module_version": "1.2.0",
          "state": {
            "_model_module": "@jupyter-widgets/base",
            "_model_module_version": "1.2.0",
            "_model_name": "LayoutModel",
            "_view_count": null,
            "_view_module": "@jupyter-widgets/base",
            "_view_module_version": "1.2.0",
            "_view_name": "LayoutView",
            "align_content": null,
            "align_items": null,
            "align_self": null,
            "border": null,
            "bottom": null,
            "display": null,
            "flex": null,
            "flex_flow": null,
            "grid_area": null,
            "grid_auto_columns": null,
            "grid_auto_flow": null,
            "grid_auto_rows": null,
            "grid_column": null,
            "grid_gap": null,
            "grid_row": null,
            "grid_template_areas": null,
            "grid_template_columns": null,
            "grid_template_rows": null,
            "height": null,
            "justify_content": null,
            "justify_items": null,
            "left": null,
            "margin": null,
            "max_height": null,
            "max_width": null,
            "min_height": null,
            "min_width": null,
            "object_fit": null,
            "object_position": null,
            "order": null,
            "overflow": null,
            "overflow_x": null,
            "overflow_y": null,
            "padding": null,
            "right": null,
            "top": null,
            "visibility": null,
            "width": null
          }
        },
        "e64e4da005f8443aa7dd1f97453b7f1a": {
          "model_module": "@jupyter-widgets/controls",
          "model_name": "ProgressStyleModel",
          "model_module_version": "1.5.0",
          "state": {
            "_model_module": "@jupyter-widgets/controls",
            "_model_module_version": "1.5.0",
            "_model_name": "ProgressStyleModel",
            "_view_count": null,
            "_view_module": "@jupyter-widgets/base",
            "_view_module_version": "1.2.0",
            "_view_name": "StyleView",
            "bar_color": null,
            "description_width": ""
          }
        },
        "5afd93ad8a134aaa81bf30a4be09dcb3": {
          "model_module": "@jupyter-widgets/base",
          "model_name": "LayoutModel",
          "model_module_version": "1.2.0",
          "state": {
            "_model_module": "@jupyter-widgets/base",
            "_model_module_version": "1.2.0",
            "_model_name": "LayoutModel",
            "_view_count": null,
            "_view_module": "@jupyter-widgets/base",
            "_view_module_version": "1.2.0",
            "_view_name": "LayoutView",
            "align_content": null,
            "align_items": null,
            "align_self": null,
            "border": null,
            "bottom": null,
            "display": null,
            "flex": null,
            "flex_flow": null,
            "grid_area": null,
            "grid_auto_columns": null,
            "grid_auto_flow": null,
            "grid_auto_rows": null,
            "grid_column": null,
            "grid_gap": null,
            "grid_row": null,
            "grid_template_areas": null,
            "grid_template_columns": null,
            "grid_template_rows": null,
            "height": null,
            "justify_content": null,
            "justify_items": null,
            "left": null,
            "margin": null,
            "max_height": null,
            "max_width": null,
            "min_height": null,
            "min_width": null,
            "object_fit": null,
            "object_position": null,
            "order": null,
            "overflow": null,
            "overflow_x": null,
            "overflow_y": null,
            "padding": null,
            "right": null,
            "top": null,
            "visibility": null,
            "width": null
          }
        },
        "c500ae3bab974c2995861aa04f08f2d3": {
          "model_module": "@jupyter-widgets/controls",
          "model_name": "DescriptionStyleModel",
          "model_module_version": "1.5.0",
          "state": {
            "_model_module": "@jupyter-widgets/controls",
            "_model_module_version": "1.5.0",
            "_model_name": "DescriptionStyleModel",
            "_view_count": null,
            "_view_module": "@jupyter-widgets/base",
            "_view_module_version": "1.2.0",
            "_view_name": "StyleView",
            "description_width": ""
          }
        }
      }
    }
  },
  "cells": [
    {
      "cell_type": "markdown",
      "metadata": {
        "id": "view-in-github",
        "colab_type": "text"
      },
      "source": [
        "<a href=\"https://colab.research.google.com/github/ayyucedemirbas/Medical_Img_Seg/blob/main/TotalSegmentator.ipynb\" target=\"_parent\"><img src=\"https://colab.research.google.com/assets/colab-badge.svg\" alt=\"Open In Colab\"/></a>"
      ]
    },
    {
      "cell_type": "code",
      "execution_count": 1,
      "metadata": {
        "colab": {
          "base_uri": "https://localhost:8080/",
          "height": 1000
        },
        "id": "ite4l2M0UUs1",
        "outputId": "0145bbcb-1953-4814-eb74-90b09daedb49",
        "collapsed": true
      },
      "outputs": [
        {
          "output_type": "stream",
          "name": "stdout",
          "text": [
            "Collecting TotalSegmentator\n",
            "  Downloading TotalSegmentator-2.4.0-py3-none-any.whl.metadata (972 bytes)\n",
            "Requirement already satisfied: torch>=2.0.0 in /usr/local/lib/python3.10/dist-packages (from TotalSegmentator) (2.4.1+cu121)\n",
            "Requirement already satisfied: numpy<2 in /usr/local/lib/python3.10/dist-packages (from TotalSegmentator) (1.26.4)\n",
            "Collecting SimpleITK (from TotalSegmentator)\n",
            "  Downloading SimpleITK-2.4.0-cp310-cp310-manylinux_2_17_x86_64.manylinux2014_x86_64.whl.metadata (7.9 kB)\n",
            "Requirement already satisfied: nibabel>=2.3.0 in /usr/local/lib/python3.10/dist-packages (from TotalSegmentator) (5.2.1)\n",
            "Requirement already satisfied: tqdm>=4.45.0 in /usr/local/lib/python3.10/dist-packages (from TotalSegmentator) (4.66.5)\n",
            "Collecting p-tqdm (from TotalSegmentator)\n",
            "  Downloading p_tqdm-1.4.2.tar.gz (6.0 kB)\n",
            "  Preparing metadata (setup.py) ... \u001b[?25l\u001b[?25hdone\n",
            "Collecting xvfbwrapper (from TotalSegmentator)\n",
            "  Downloading xvfbwrapper-0.2.9.tar.gz (5.6 kB)\n",
            "  Preparing metadata (setup.py) ... \u001b[?25l\u001b[?25hdone\n",
            "Collecting nnunetv2>=2.2.1 (from TotalSegmentator)\n",
            "  Downloading nnunetv2-2.5.1.tar.gz (196 kB)\n",
            "\u001b[2K     \u001b[90m━━━━━━━━━━━━━━━━━━━━━━━━━━━━━━━━━━━━━━━━\u001b[0m \u001b[32m197.0/197.0 kB\u001b[0m \u001b[31m8.6 MB/s\u001b[0m eta \u001b[36m0:00:00\u001b[0m\n",
            "\u001b[?25h  Installing build dependencies ... \u001b[?25l\u001b[?25hdone\n",
            "  Getting requirements to build wheel ... \u001b[?25l\u001b[?25hdone\n",
            "  Preparing metadata (pyproject.toml) ... \u001b[?25l\u001b[?25hdone\n",
            "Collecting rt-utils (from TotalSegmentator)\n",
            "  Downloading rt_utils-1.2.7-py2.py3-none-any.whl.metadata (7.5 kB)\n",
            "Collecting dicom2nifti (from TotalSegmentator)\n",
            "  Downloading dicom2nifti-2.5.0-py3-none-any.whl.metadata (1.3 kB)\n",
            "Requirement already satisfied: pyarrow in /usr/local/lib/python3.10/dist-packages (from TotalSegmentator) (14.0.2)\n",
            "Requirement already satisfied: requests in /usr/local/lib/python3.10/dist-packages (from TotalSegmentator) (2.32.3)\n",
            "Requirement already satisfied: packaging>=17 in /usr/local/lib/python3.10/dist-packages (from nibabel>=2.3.0->TotalSegmentator) (24.1)\n",
            "Collecting acvl-utils<0.3,>=0.2 (from nnunetv2>=2.2.1->TotalSegmentator)\n",
            "  Downloading acvl_utils-0.2.tar.gz (18 kB)\n",
            "  Preparing metadata (setup.py) ... \u001b[?25l\u001b[?25hdone\n",
            "Collecting dynamic-network-architectures<0.4,>=0.3.1 (from nnunetv2>=2.2.1->TotalSegmentator)\n",
            "  Downloading dynamic_network_architectures-0.3.1.tar.gz (20 kB)\n",
            "  Preparing metadata (setup.py) ... \u001b[?25l\u001b[?25hdone\n",
            "Requirement already satisfied: scipy in /usr/local/lib/python3.10/dist-packages (from nnunetv2>=2.2.1->TotalSegmentator) (1.13.1)\n",
            "Collecting batchgenerators>=0.25 (from nnunetv2>=2.2.1->TotalSegmentator)\n",
            "  Downloading batchgenerators-0.25.tar.gz (61 kB)\n",
            "\u001b[2K     \u001b[90m━━━━━━━━━━━━━━━━━━━━━━━━━━━━━━━━━━━━━━━━\u001b[0m \u001b[32m61.7/61.7 kB\u001b[0m \u001b[31m7.0 MB/s\u001b[0m eta \u001b[36m0:00:00\u001b[0m\n",
            "\u001b[?25h  Preparing metadata (setup.py) ... \u001b[?25l\u001b[?25hdone\n",
            "Requirement already satisfied: scikit-learn in /usr/local/lib/python3.10/dist-packages (from nnunetv2>=2.2.1->TotalSegmentator) (1.5.2)\n",
            "Requirement already satisfied: scikit-image>=0.19.3 in /usr/local/lib/python3.10/dist-packages (from nnunetv2>=2.2.1->TotalSegmentator) (0.24.0)\n",
            "Requirement already satisfied: pandas in /usr/local/lib/python3.10/dist-packages (from nnunetv2>=2.2.1->TotalSegmentator) (2.1.4)\n",
            "Requirement already satisfied: graphviz in /usr/local/lib/python3.10/dist-packages (from nnunetv2>=2.2.1->TotalSegmentator) (0.20.3)\n",
            "Requirement already satisfied: tifffile in /usr/local/lib/python3.10/dist-packages (from nnunetv2>=2.2.1->TotalSegmentator) (2024.9.20)\n",
            "Requirement already satisfied: matplotlib in /usr/local/lib/python3.10/dist-packages (from nnunetv2>=2.2.1->TotalSegmentator) (3.7.1)\n",
            "Requirement already satisfied: seaborn in /usr/local/lib/python3.10/dist-packages (from nnunetv2>=2.2.1->TotalSegmentator) (0.13.1)\n",
            "Collecting imagecodecs (from nnunetv2>=2.2.1->TotalSegmentator)\n",
            "  Downloading imagecodecs-2024.9.22-cp310-cp310-manylinux_2_17_x86_64.manylinux2014_x86_64.whl.metadata (20 kB)\n",
            "Collecting yacs (from nnunetv2>=2.2.1->TotalSegmentator)\n",
            "  Downloading yacs-0.1.8-py3-none-any.whl.metadata (639 bytes)\n",
            "Collecting batchgeneratorsv2>=0.2 (from nnunetv2>=2.2.1->TotalSegmentator)\n",
            "  Downloading batchgeneratorsv2-0.2.1.tar.gz (34 kB)\n",
            "  Installing build dependencies ... \u001b[?25l\u001b[?25hdone\n",
            "  Getting requirements to build wheel ... \u001b[?25l\u001b[?25hdone\n",
            "  Preparing metadata (pyproject.toml) ... \u001b[?25l\u001b[?25hdone\n",
            "Requirement already satisfied: einops in /usr/local/lib/python3.10/dist-packages (from nnunetv2>=2.2.1->TotalSegmentator) (0.8.0)\n",
            "Requirement already satisfied: filelock in /usr/local/lib/python3.10/dist-packages (from torch>=2.0.0->TotalSegmentator) (3.16.1)\n",
            "Requirement already satisfied: typing-extensions>=4.8.0 in /usr/local/lib/python3.10/dist-packages (from torch>=2.0.0->TotalSegmentator) (4.12.2)\n",
            "Requirement already satisfied: sympy in /usr/local/lib/python3.10/dist-packages (from torch>=2.0.0->TotalSegmentator) (1.13.3)\n",
            "Requirement already satisfied: networkx in /usr/local/lib/python3.10/dist-packages (from torch>=2.0.0->TotalSegmentator) (3.3)\n",
            "Requirement already satisfied: jinja2 in /usr/local/lib/python3.10/dist-packages (from torch>=2.0.0->TotalSegmentator) (3.1.4)\n",
            "Requirement already satisfied: fsspec in /usr/local/lib/python3.10/dist-packages (from torch>=2.0.0->TotalSegmentator) (2024.6.1)\n",
            "Collecting pydicom>=2.2.0 (from dicom2nifti->TotalSegmentator)\n",
            "  Downloading pydicom-3.0.1-py3-none-any.whl.metadata (9.4 kB)\n",
            "Collecting python-gdcm (from dicom2nifti->TotalSegmentator)\n",
            "  Downloading python_gdcm-3.0.24.1-cp310-cp310-manylinux_2_17_x86_64.manylinux2014_x86_64.whl.metadata (3.7 kB)\n",
            "Collecting pathos>=0.2.5 (from p-tqdm->TotalSegmentator)\n",
            "  Downloading pathos-0.3.2-py3-none-any.whl.metadata (11 kB)\n",
            "Requirement already satisfied: six>=1.13.0 in /usr/local/lib/python3.10/dist-packages (from p-tqdm->TotalSegmentator) (1.16.0)\n",
            "Requirement already satisfied: charset-normalizer<4,>=2 in /usr/local/lib/python3.10/dist-packages (from requests->TotalSegmentator) (3.3.2)\n",
            "Requirement already satisfied: idna<4,>=2.5 in /usr/local/lib/python3.10/dist-packages (from requests->TotalSegmentator) (3.10)\n",
            "Requirement already satisfied: urllib3<3,>=1.21.1 in /usr/local/lib/python3.10/dist-packages (from requests->TotalSegmentator) (2.2.3)\n",
            "Requirement already satisfied: certifi>=2017.4.17 in /usr/local/lib/python3.10/dist-packages (from requests->TotalSegmentator) (2024.8.30)\n",
            "Requirement already satisfied: opencv-python in /usr/local/lib/python3.10/dist-packages (from rt-utils->TotalSegmentator) (4.10.0.84)\n",
            "Collecting dataclasses (from rt-utils->TotalSegmentator)\n",
            "  Downloading dataclasses-0.6-py3-none-any.whl.metadata (3.0 kB)\n",
            "Collecting connected-components-3d (from acvl-utils<0.3,>=0.2->nnunetv2>=2.2.1->TotalSegmentator)\n",
            "  Downloading connected_components_3d-3.18.0-cp310-cp310-manylinux_2_17_x86_64.manylinux2014_x86_64.whl.metadata (31 kB)\n",
            "Requirement already satisfied: pillow>=7.1.2 in /usr/local/lib/python3.10/dist-packages (from batchgenerators>=0.25->nnunetv2>=2.2.1->TotalSegmentator) (10.4.0)\n",
            "Requirement already satisfied: future in /usr/local/lib/python3.10/dist-packages (from batchgenerators>=0.25->nnunetv2>=2.2.1->TotalSegmentator) (1.0.0)\n",
            "Collecting unittest2 (from batchgenerators>=0.25->nnunetv2>=2.2.1->TotalSegmentator)\n",
            "  Downloading unittest2-1.1.0-py2.py3-none-any.whl.metadata (15 kB)\n",
            "Requirement already satisfied: threadpoolctl in /usr/local/lib/python3.10/dist-packages (from batchgenerators>=0.25->nnunetv2>=2.2.1->TotalSegmentator) (3.5.0)\n",
            "Collecting fft-conv-pytorch (from batchgeneratorsv2>=0.2->nnunetv2>=2.2.1->TotalSegmentator)\n",
            "  Downloading fft_conv_pytorch-1.2.0-py3-none-any.whl.metadata (2.8 kB)\n",
            "Collecting ppft>=1.7.6.8 (from pathos>=0.2.5->p-tqdm->TotalSegmentator)\n",
            "  Downloading ppft-1.7.6.9-py3-none-any.whl.metadata (12 kB)\n",
            "Collecting dill>=0.3.8 (from pathos>=0.2.5->p-tqdm->TotalSegmentator)\n",
            "  Downloading dill-0.3.9-py3-none-any.whl.metadata (10 kB)\n",
            "Collecting pox>=0.3.4 (from pathos>=0.2.5->p-tqdm->TotalSegmentator)\n",
            "  Downloading pox-0.3.5-py3-none-any.whl.metadata (8.0 kB)\n",
            "Collecting multiprocess>=0.70.16 (from pathos>=0.2.5->p-tqdm->TotalSegmentator)\n",
            "  Downloading multiprocess-0.70.16-py310-none-any.whl.metadata (7.2 kB)\n",
            "Requirement already satisfied: imageio>=2.33 in /usr/local/lib/python3.10/dist-packages (from scikit-image>=0.19.3->nnunetv2>=2.2.1->TotalSegmentator) (2.35.1)\n",
            "Requirement already satisfied: lazy-loader>=0.4 in /usr/local/lib/python3.10/dist-packages (from scikit-image>=0.19.3->nnunetv2>=2.2.1->TotalSegmentator) (0.4)\n",
            "Requirement already satisfied: MarkupSafe>=2.0 in /usr/local/lib/python3.10/dist-packages (from jinja2->torch>=2.0.0->TotalSegmentator) (2.1.5)\n",
            "Requirement already satisfied: contourpy>=1.0.1 in /usr/local/lib/python3.10/dist-packages (from matplotlib->nnunetv2>=2.2.1->TotalSegmentator) (1.3.0)\n",
            "Requirement already satisfied: cycler>=0.10 in /usr/local/lib/python3.10/dist-packages (from matplotlib->nnunetv2>=2.2.1->TotalSegmentator) (0.12.1)\n",
            "Requirement already satisfied: fonttools>=4.22.0 in /usr/local/lib/python3.10/dist-packages (from matplotlib->nnunetv2>=2.2.1->TotalSegmentator) (4.53.1)\n",
            "Requirement already satisfied: kiwisolver>=1.0.1 in /usr/local/lib/python3.10/dist-packages (from matplotlib->nnunetv2>=2.2.1->TotalSegmentator) (1.4.7)\n",
            "Requirement already satisfied: pyparsing>=2.3.1 in /usr/local/lib/python3.10/dist-packages (from matplotlib->nnunetv2>=2.2.1->TotalSegmentator) (3.1.4)\n",
            "Requirement already satisfied: python-dateutil>=2.7 in /usr/local/lib/python3.10/dist-packages (from matplotlib->nnunetv2>=2.2.1->TotalSegmentator) (2.8.2)\n",
            "Requirement already satisfied: pytz>=2020.1 in /usr/local/lib/python3.10/dist-packages (from pandas->nnunetv2>=2.2.1->TotalSegmentator) (2024.2)\n",
            "Requirement already satisfied: tzdata>=2022.1 in /usr/local/lib/python3.10/dist-packages (from pandas->nnunetv2>=2.2.1->TotalSegmentator) (2024.1)\n",
            "Requirement already satisfied: joblib>=1.2.0 in /usr/local/lib/python3.10/dist-packages (from scikit-learn->nnunetv2>=2.2.1->TotalSegmentator) (1.4.2)\n",
            "Requirement already satisfied: mpmath<1.4,>=1.1.0 in /usr/local/lib/python3.10/dist-packages (from sympy->torch>=2.0.0->TotalSegmentator) (1.3.0)\n",
            "Requirement already satisfied: PyYAML in /usr/local/lib/python3.10/dist-packages (from yacs->nnunetv2>=2.2.1->TotalSegmentator) (6.0.2)\n",
            "Collecting argparse (from unittest2->batchgenerators>=0.25->nnunetv2>=2.2.1->TotalSegmentator)\n",
            "  Downloading argparse-1.4.0-py2.py3-none-any.whl.metadata (2.8 kB)\n",
            "Collecting traceback2 (from unittest2->batchgenerators>=0.25->nnunetv2>=2.2.1->TotalSegmentator)\n",
            "  Downloading traceback2-1.4.0-py2.py3-none-any.whl.metadata (1.5 kB)\n",
            "Collecting linecache2 (from traceback2->unittest2->batchgenerators>=0.25->nnunetv2>=2.2.1->TotalSegmentator)\n",
            "  Downloading linecache2-1.0.0-py2.py3-none-any.whl.metadata (1000 bytes)\n",
            "Downloading TotalSegmentator-2.4.0-py3-none-any.whl (347 kB)\n",
            "\u001b[2K   \u001b[90m━━━━━━━━━━━━━━━━━━━━━━━━━━━━━━━━━━━━━━━━\u001b[0m \u001b[32m347.5/347.5 kB\u001b[0m \u001b[31m4.7 MB/s\u001b[0m eta \u001b[36m0:00:00\u001b[0m\n",
            "\u001b[?25hDownloading SimpleITK-2.4.0-cp310-cp310-manylinux_2_17_x86_64.manylinux2014_x86_64.whl (52.4 MB)\n",
            "\u001b[2K   \u001b[90m━━━━━━━━━━━━━━━━━━━━━━━━━━━━━━━━━━━━━━━━\u001b[0m \u001b[32m52.4/52.4 MB\u001b[0m \u001b[31m13.4 MB/s\u001b[0m eta \u001b[36m0:00:00\u001b[0m\n",
            "\u001b[?25hDownloading dicom2nifti-2.5.0-py3-none-any.whl (43 kB)\n",
            "\u001b[2K   \u001b[90m━━━━━━━━━━━━━━━━━━━━━━━━━━━━━━━━━━━━━━━━\u001b[0m \u001b[32m43.6/43.6 kB\u001b[0m \u001b[31m4.4 MB/s\u001b[0m eta \u001b[36m0:00:00\u001b[0m\n",
            "\u001b[?25hDownloading rt_utils-1.2.7-py2.py3-none-any.whl (18 kB)\n",
            "Downloading pathos-0.3.2-py3-none-any.whl (82 kB)\n",
            "\u001b[2K   \u001b[90m━━━━━━━━━━━━━━━━━━━━━━━━━━━━━━━━━━━━━━━━\u001b[0m \u001b[32m82.1/82.1 kB\u001b[0m \u001b[31m8.5 MB/s\u001b[0m eta \u001b[36m0:00:00\u001b[0m\n",
            "\u001b[?25hDownloading pydicom-3.0.1-py3-none-any.whl (2.4 MB)\n",
            "\u001b[2K   \u001b[90m━━━━━━━━━━━━━━━━━━━━━━━━━━━━━━━━━━━━━━━━\u001b[0m \u001b[32m2.4/2.4 MB\u001b[0m \u001b[31m95.2 MB/s\u001b[0m eta \u001b[36m0:00:00\u001b[0m\n",
            "\u001b[?25hDownloading dataclasses-0.6-py3-none-any.whl (14 kB)\n",
            "Downloading imagecodecs-2024.9.22-cp310-cp310-manylinux_2_17_x86_64.manylinux2014_x86_64.whl (43.3 MB)\n",
            "\u001b[2K   \u001b[90m━━━━━━━━━━━━━━━━━━━━━━━━━━━━━━━━━━━━━━━━\u001b[0m \u001b[32m43.3/43.3 MB\u001b[0m \u001b[31m13.4 MB/s\u001b[0m eta \u001b[36m0:00:00\u001b[0m\n",
            "\u001b[?25hDownloading python_gdcm-3.0.24.1-cp310-cp310-manylinux_2_17_x86_64.manylinux2014_x86_64.whl (13.1 MB)\n",
            "\u001b[2K   \u001b[90m━━━━━━━━━━━━━━━━━━━━━━━━━━━━━━━━━━━━━━━━\u001b[0m \u001b[32m13.1/13.1 MB\u001b[0m \u001b[31m49.1 MB/s\u001b[0m eta \u001b[36m0:00:00\u001b[0m\n",
            "\u001b[?25hDownloading yacs-0.1.8-py3-none-any.whl (14 kB)\n",
            "Downloading dill-0.3.9-py3-none-any.whl (119 kB)\n",
            "\u001b[2K   \u001b[90m━━━━━━━━━━━━━━━━━━━━━━━━━━━━━━━━━━━━━━━━\u001b[0m \u001b[32m119.4/119.4 kB\u001b[0m \u001b[31m13.3 MB/s\u001b[0m eta \u001b[36m0:00:00\u001b[0m\n",
            "\u001b[?25hDownloading multiprocess-0.70.16-py310-none-any.whl (134 kB)\n",
            "\u001b[2K   \u001b[90m━━━━━━━━━━━━━━━━━━━━━━━━━━━━━━━━━━━━━━━━\u001b[0m \u001b[32m134.8/134.8 kB\u001b[0m \u001b[31m14.9 MB/s\u001b[0m eta \u001b[36m0:00:00\u001b[0m\n",
            "\u001b[?25hDownloading pox-0.3.5-py3-none-any.whl (29 kB)\n",
            "Downloading ppft-1.7.6.9-py3-none-any.whl (56 kB)\n",
            "\u001b[2K   \u001b[90m━━━━━━━━━━━━━━━━━━━━━━━━━━━━━━━━━━━━━━━━\u001b[0m \u001b[32m56.8/56.8 kB\u001b[0m \u001b[31m6.2 MB/s\u001b[0m eta \u001b[36m0:00:00\u001b[0m\n",
            "\u001b[?25hDownloading connected_components_3d-3.18.0-cp310-cp310-manylinux_2_17_x86_64.manylinux2014_x86_64.whl (3.7 MB)\n",
            "\u001b[2K   \u001b[90m━━━━━━━━━━━━━━━━━━━━━━━━━━━━━━━━━━━━━━━━\u001b[0m \u001b[32m3.7/3.7 MB\u001b[0m \u001b[31m87.0 MB/s\u001b[0m eta \u001b[36m0:00:00\u001b[0m\n",
            "\u001b[?25hDownloading fft_conv_pytorch-1.2.0-py3-none-any.whl (6.8 kB)\n",
            "Downloading unittest2-1.1.0-py2.py3-none-any.whl (96 kB)\n",
            "\u001b[2K   \u001b[90m━━━━━━━━━━━━━━━━━━━━━━━━━━━━━━━━━━━━━━━━\u001b[0m \u001b[32m96.4/96.4 kB\u001b[0m \u001b[31m11.0 MB/s\u001b[0m eta \u001b[36m0:00:00\u001b[0m\n",
            "\u001b[?25hDownloading argparse-1.4.0-py2.py3-none-any.whl (23 kB)\n",
            "Downloading traceback2-1.4.0-py2.py3-none-any.whl (16 kB)\n",
            "Downloading linecache2-1.0.0-py2.py3-none-any.whl (12 kB)\n",
            "Building wheels for collected packages: nnunetv2, p-tqdm, xvfbwrapper, acvl-utils, batchgenerators, batchgeneratorsv2, dynamic-network-architectures\n",
            "  Building wheel for nnunetv2 (pyproject.toml) ... \u001b[?25l\u001b[?25hdone\n",
            "  Created wheel for nnunetv2: filename=nnunetv2-2.5.1-py3-none-any.whl size=264366 sha256=2e029e5bd99c3f3b74b71ac36e4b4a6d676c3f234a63232b4961e7c6d8cac510\n",
            "  Stored in directory: /root/.cache/pip/wheels/5d/d6/90/88743b341922dc9f6795742570aac83a1eaa55f77ee676a5a6\n",
            "  Building wheel for p-tqdm (setup.py) ... \u001b[?25l\u001b[?25hdone\n",
            "  Created wheel for p-tqdm: filename=p_tqdm-1.4.2-py3-none-any.whl size=5399 sha256=4c01e23a170ed657fde6dc446be4b6c2f7510449bf9e12d616f5e046e767b68e\n",
            "  Stored in directory: /root/.cache/pip/wheels/5c/eb/46/364fe18b96fa8438176535990d8c8ac9ac87becde4cd340d3d\n",
            "  Building wheel for xvfbwrapper (setup.py) ... \u001b[?25l\u001b[?25hdone\n",
            "  Created wheel for xvfbwrapper: filename=xvfbwrapper-0.2.9-py3-none-any.whl size=5009 sha256=871a779fde973e0a02ade3fc09545d09a91269503dafb3fb0b74b6497af7a8b6\n",
            "  Stored in directory: /root/.cache/pip/wheels/cb/10/7d/2b7fdffccf837f7d5425931575fbee9caebe2c190931f9058b\n",
            "  Building wheel for acvl-utils (setup.py) ... \u001b[?25l\u001b[?25hdone\n",
            "  Created wheel for acvl-utils: filename=acvl_utils-0.2-py3-none-any.whl size=22438 sha256=8584f5c3652e07daab9547e778703459c5c09d8e010df49c9210b3a2820ae352\n",
            "  Stored in directory: /root/.cache/pip/wheels/ad/f0/84/52e8897591e66339bd2796681b9540b6c5e453c1461fa92a9e\n",
            "  Building wheel for batchgenerators (setup.py) ... \u001b[?25l\u001b[?25hdone\n",
            "  Created wheel for batchgenerators: filename=batchgenerators-0.25-py3-none-any.whl size=89008 sha256=473fd5345c310b2b385c1eaa541647a63dcde4f9c7db0a0aef02d2340f19c3a6\n",
            "  Stored in directory: /root/.cache/pip/wheels/9e/b0/1b/40912fb58eb167b86cbc444ddb2e6ba382b248215295f932e2\n",
            "  Building wheel for batchgeneratorsv2 (pyproject.toml) ... \u001b[?25l\u001b[?25hdone\n",
            "  Created wheel for batchgeneratorsv2: filename=batchgeneratorsv2-0.2.1-py3-none-any.whl size=45184 sha256=bb486e4a972314c85b6eb47820e0d18d454ede741a4280034a44cd5c5144c023\n",
            "  Stored in directory: /root/.cache/pip/wheels/a7/20/91/33993997db216e7b946d379850c47837d2478be49377a6cb41\n",
            "  Building wheel for dynamic-network-architectures (setup.py) ... \u001b[?25l\u001b[?25hdone\n",
            "  Created wheel for dynamic-network-architectures: filename=dynamic_network_architectures-0.3.1-py3-none-any.whl size=30049 sha256=e0806f6cafbf66edee3b916e725c3342bae4e2c72a3e90eeef571d66d4e9020b\n",
            "  Stored in directory: /root/.cache/pip/wheels/55/1b/13/a6419c8dbf998b9343710355ec3edc5c8e24d9b7b22eec95fb\n",
            "Successfully built nnunetv2 p-tqdm xvfbwrapper acvl-utils batchgenerators batchgeneratorsv2 dynamic-network-architectures\n",
            "Installing collected packages: xvfbwrapper, SimpleITK, linecache2, dataclasses, argparse, yacs, traceback2, python-gdcm, pydicom, ppft, pox, imagecodecs, dill, connected-components-3d, unittest2, rt-utils, multiprocess, dicom2nifti, pathos, fft-conv-pytorch, dynamic-network-architectures, batchgenerators, p-tqdm, batchgeneratorsv2, acvl-utils, nnunetv2, TotalSegmentator\n",
            "Successfully installed SimpleITK-2.4.0 TotalSegmentator-2.4.0 acvl-utils-0.2 argparse-1.4.0 batchgenerators-0.25 batchgeneratorsv2-0.2.1 connected-components-3d-3.18.0 dataclasses-0.6 dicom2nifti-2.5.0 dill-0.3.9 dynamic-network-architectures-0.3.1 fft-conv-pytorch-1.2.0 imagecodecs-2024.9.22 linecache2-1.0.0 multiprocess-0.70.16 nnunetv2-2.5.1 p-tqdm-1.4.2 pathos-0.3.2 pox-0.3.5 ppft-1.7.6.9 pydicom-3.0.1 python-gdcm-3.0.24.1 rt-utils-1.2.7 traceback2-1.4.0 unittest2-1.1.0 xvfbwrapper-0.2.9 yacs-0.1.8\n"
          ]
        },
        {
          "output_type": "display_data",
          "data": {
            "application/vnd.colab-display-data+json": {
              "pip_warning": {
                "packages": [
                  "argparse",
                  "dataclasses"
                ]
              },
              "id": "67ddc6f87e6142f4a4d54daf8719c5de"
            }
          },
          "metadata": {}
        }
      ],
      "source": [
        "!pip install TotalSegmentator"
      ]
    },
    {
      "cell_type": "code",
      "source": [
        "!mkdir masks"
      ],
      "metadata": {
        "id": "n1BFwzkVvfgl"
      },
      "execution_count": 1,
      "outputs": []
    },
    {
      "cell_type": "code",
      "source": [
        "!TotalSegmentator \\\n",
        "-i /content/Anonymized_20240929.zip \\\n",
        "-o /content/masks \\\n",
        "-ot 'nifti' \\\n",
        "-rs spleen liver \\\n",
        "--nr_thr_saving 1"
      ],
      "metadata": {
        "colab": {
          "base_uri": "https://localhost:8080/"
        },
        "id": "p0xY2LqEvcSc",
        "outputId": "50fe0fd4-b309-45cd-a45c-ae0e08de6d76"
      },
      "execution_count": 2,
      "outputs": [
        {
          "output_type": "stream",
          "name": "stdout",
          "text": [
            "\n",
            "If you use this tool please cite: https://pubs.rsna.org/doi/10.1148/ryai.230024\n",
            "\n",
            "TotalSegmentator sends anonymous usage statistics. If you want to disable it check the documentation.\n",
            "Downloading model for Task 291 ...\n",
            "Downloading: 100% 234M/234M [00:05<00:00, 39.5MB/s]\n",
            "Download finished. Extracting...\n",
            "Downloading model for Task 292 ...\n",
            "Downloading: 100% 234M/234M [00:06<00:00, 36.3MB/s]\n",
            "Download finished. Extracting...\n",
            "Downloading model for Task 293 ...\n",
            "Downloading: 100% 234M/234M [00:06<00:00, 35.6MB/s]\n",
            "Download finished. Extracting...\n",
            "Downloading model for Task 294 ...\n",
            "Downloading: 100% 234M/234M [00:06<00:00, 35.3MB/s]\n",
            "Download finished. Extracting...\n",
            "Downloading model for Task 295 ...\n",
            "Downloading: 100% 234M/234M [00:07<00:00, 29.6MB/s]\n",
            "Download finished. Extracting...\n",
            "Generating rough segmentation for cropping...\n",
            "Downloading model for Task 298 ...\n",
            "Downloading: 100% 135M/135M [00:03<00:00, 39.4MB/s]\n",
            "Download finished. Extracting...\n",
            "Converting dicom to nifti...\n",
            "  found image with shape (512, 512, 361)\n",
            "Resampling...\n",
            "  Resampled in 3.58s\n",
            "Predicting...\n",
            "/usr/local/lib/python3.10/dist-packages/nnunetv2/inference/predict_from_raw_data.py:84: FutureWarning: You are using `torch.load` with `weights_only=False` (the current default value), which uses the default pickle module implicitly. It is possible to construct malicious pickle data which will execute arbitrary code during unpickling (See https://github.com/pytorch/pytorch/blob/main/SECURITY.md#untrusted-models for more details). In a future release, the default value for `weights_only` will be flipped to `True`. This limits the functions that could be executed during unpickling. Arbitrary objects will no longer be allowed to be loaded via this mode unless they are explicitly allowlisted by the user via `torch.serialization.add_safe_globals`. We recommend you start setting `weights_only=True` for any use case where you don't have full control of the loaded file. Please open an issue on GitHub for any issues related to this experimental feature.\n",
            "  checkpoint = torch.load(join(model_training_output_dir, f'fold_{f}', checkpoint_name),\n",
            "100% 1/1 [00:02<00:00,  2.29s/it]\n",
            "  Predicted in 14.03s\n",
            "Resampling...\n",
            "Converting dicom to nifti...\n",
            "  found image with shape (512, 512, 361)\n",
            "  cropping from (512, 512, 361) to (504, 327, 332)\n",
            "Resampling...\n",
            "  Resampled in 3.37s\n",
            "Predicting part 1 of 1 ...\n",
            "/usr/local/lib/python3.10/dist-packages/nnunetv2/inference/predict_from_raw_data.py:84: FutureWarning: You are using `torch.load` with `weights_only=False` (the current default value), which uses the default pickle module implicitly. It is possible to construct malicious pickle data which will execute arbitrary code during unpickling (See https://github.com/pytorch/pytorch/blob/main/SECURITY.md#untrusted-models for more details). In a future release, the default value for `weights_only` will be flipped to `True`. This limits the functions that could be executed during unpickling. Arbitrary objects will no longer be allowed to be loaded via this mode unless they are explicitly allowlisted by the user via `torch.serialization.add_safe_globals`. We recommend you start setting `weights_only=True` for any use case where you don't have full control of the loaded file. Please open an issue on GitHub for any issues related to this experimental feature.\n",
            "  checkpoint = torch.load(join(model_training_output_dir, f'fold_{f}', checkpoint_name),\n",
            "100% 4/4 [00:02<00:00,  1.86it/s]\n",
            "  Predicted in 15.17s\n",
            "Resampling...\n",
            "Saving segmentations...\n",
            "  Saved in 4.68s\n"
          ]
        }
      ]
    },
    {
      "cell_type": "code",
      "source": [
        "import os"
      ],
      "metadata": {
        "id": "x7t--8hFwlKj"
      },
      "execution_count": 4,
      "outputs": []
    },
    {
      "cell_type": "code",
      "source": [
        "!unzip /content/Anonymized_20240929.zip"
      ],
      "metadata": {
        "colab": {
          "base_uri": "https://localhost:8080/"
        },
        "collapsed": true,
        "id": "LSbtWkjjwyrT",
        "outputId": "83f62cbe-b589-419c-c094-07726b6e7abe"
      },
      "execution_count": 7,
      "outputs": [
        {
          "output_type": "stream",
          "name": "stdout",
          "text": [
            "Archive:  /content/Anonymized_20240929.zip\n",
            " extracting: series-00000/image-00216.dcm  \n",
            " extracting: series-00000/image-00159.dcm  \n",
            " extracting: series-00000/image-00269.dcm  \n",
            " extracting: series-00000/image-00357.dcm  \n",
            " extracting: series-00000/image-00124.dcm  \n",
            " extracting: series-00000/image-00150.dcm  \n",
            " extracting: series-00000/image-00187.dcm  \n",
            " extracting: series-00000/image-00129.dcm  \n",
            " extracting: series-00000/image-00115.dcm  \n",
            " extracting: series-00000/image-00223.dcm  \n",
            " extracting: series-00000/image-00350.dcm  \n",
            " extracting: series-00000/image-00260.dcm  \n",
            " extracting: series-00000/image-00209.dcm  \n",
            " extracting: series-00000/image-00206.dcm  \n",
            " extracting: series-00000/image-00005.dcm  \n",
            " extracting: series-00000/image-00121.dcm  \n",
            " extracting: series-00000/image-00046.dcm  \n",
            " extracting: series-00000/image-00014.dcm  \n",
            " extracting: series-00000/image-00175.dcm  \n",
            " extracting: series-00000/image-00163.dcm  \n",
            " extracting: series-00000/image-00170.dcm  \n",
            " extracting: series-00000/image-00067.dcm  \n",
            " extracting: series-00000/image-00122.dcm  \n",
            " extracting: series-00000/image-00281.dcm  \n",
            " extracting: series-00000/image-00025.dcm  \n",
            " extracting: series-00000/image-00052.dcm  \n",
            " extracting: series-00000/image-00078.dcm  \n",
            " extracting: series-00000/image-00186.dcm  \n",
            " extracting: series-00000/image-00356.dcm  \n",
            " extracting: series-00000/image-00283.dcm  \n",
            " extracting: series-00000/image-00237.dcm  \n",
            " extracting: series-00000/image-00094.dcm  \n",
            " extracting: series-00000/image-00291.dcm  \n",
            " extracting: series-00000/image-00065.dcm  \n",
            " extracting: series-00000/image-00346.dcm  \n",
            " extracting: series-00000/image-00257.dcm  \n",
            " extracting: series-00000/image-00256.dcm  \n",
            " extracting: series-00000/image-00103.dcm  \n",
            " extracting: series-00000/image-00267.dcm  \n",
            " extracting: series-00000/image-00093.dcm  \n",
            " extracting: series-00000/image-00162.dcm  \n",
            " extracting: series-00000/image-00074.dcm  \n",
            " extracting: series-00000/image-00202.dcm  \n",
            " extracting: series-00000/image-00184.dcm  \n",
            " extracting: series-00000/image-00323.dcm  \n",
            " extracting: series-00000/image-00332.dcm  \n",
            " extracting: series-00000/image-00011.dcm  \n",
            " extracting: series-00000/image-00288.dcm  \n",
            " extracting: series-00000/image-00043.dcm  \n",
            " extracting: series-00000/image-00038.dcm  \n",
            " extracting: series-00000/image-00056.dcm  \n",
            " extracting: series-00000/image-00329.dcm  \n",
            " extracting: series-00000/image-00120.dcm  \n",
            " extracting: series-00000/image-00151.dcm  \n",
            " extracting: series-00000/image-00228.dcm  \n",
            " extracting: series-00000/image-00317.dcm  \n",
            " extracting: series-00000/image-00358.dcm  \n",
            " extracting: series-00000/image-00278.dcm  \n",
            " extracting: series-00000/image-00075.dcm  \n",
            " extracting: series-00000/image-00166.dcm  \n",
            " extracting: series-00000/image-00254.dcm  \n",
            " extracting: series-00000/image-00016.dcm  \n",
            " extracting: series-00000/image-00101.dcm  \n",
            " extracting: series-00000/image-00171.dcm  \n",
            " extracting: series-00000/image-00039.dcm  \n",
            " extracting: series-00000/image-00064.dcm  \n",
            " extracting: series-00000/image-00062.dcm  \n",
            " extracting: series-00000/image-00222.dcm  \n",
            " extracting: series-00000/image-00071.dcm  \n",
            " extracting: series-00000/image-00299.dcm  \n",
            " extracting: series-00000/image-00326.dcm  \n",
            " extracting: series-00000/image-00207.dcm  \n",
            " extracting: series-00000/image-00068.dcm  \n",
            " extracting: series-00000/image-00360.dcm  \n",
            " extracting: series-00000/image-00286.dcm  \n",
            " extracting: series-00000/image-00310.dcm  \n",
            " extracting: series-00000/image-00057.dcm  \n",
            " extracting: series-00000/image-00337.dcm  \n",
            " extracting: series-00000/image-00241.dcm  \n",
            " extracting: series-00000/image-00116.dcm  \n",
            " extracting: series-00000/image-00219.dcm  \n",
            " extracting: series-00000/image-00107.dcm  \n",
            " extracting: series-00000/image-00248.dcm  \n",
            " extracting: series-00000/image-00096.dcm  \n",
            " extracting: series-00000/image-00263.dcm  \n",
            " extracting: series-00000/image-00006.dcm  \n",
            " extracting: series-00000/image-00199.dcm  \n",
            " extracting: series-00000/image-00084.dcm  \n",
            " extracting: series-00000/image-00290.dcm  \n",
            " extracting: series-00000/image-00341.dcm  \n",
            " extracting: series-00000/image-00112.dcm  \n",
            " extracting: series-00000/image-00158.dcm  \n",
            " extracting: series-00000/image-00079.dcm  \n",
            " extracting: series-00000/image-00252.dcm  \n",
            " extracting: series-00000/image-00239.dcm  \n",
            " extracting: series-00000/image-00314.dcm  \n",
            " extracting: series-00000/image-00017.dcm  \n",
            " extracting: series-00000/image-00300.dcm  \n",
            " extracting: series-00000/image-00143.dcm  \n",
            " extracting: series-00000/image-00251.dcm  \n",
            " extracting: series-00000/image-00307.dcm  \n",
            " extracting: series-00000/image-00144.dcm  \n",
            " extracting: series-00000/image-00339.dcm  \n",
            " extracting: series-00000/image-00139.dcm  \n",
            " extracting: series-00000/image-00105.dcm  \n",
            " extracting: series-00000/image-00220.dcm  \n",
            " extracting: series-00000/image-00211.dcm  \n",
            " extracting: series-00000/image-00022.dcm  \n",
            " extracting: series-00000/image-00033.dcm  \n",
            " extracting: series-00000/image-00108.dcm  \n",
            " extracting: series-00000/image-00335.dcm  \n",
            " extracting: series-00000/image-00059.dcm  \n",
            " extracting: series-00000/image-00189.dcm  \n",
            " extracting: series-00000/image-00060.dcm  \n",
            " extracting: series-00000/image-00333.dcm  \n",
            " extracting: series-00000/image-00010.dcm  \n",
            " extracting: series-00000/image-00271.dcm  \n",
            " extracting: series-00000/image-00051.dcm  \n",
            " extracting: series-00000/image-00316.dcm  \n",
            " extracting: series-00000/image-00054.dcm  \n",
            " extracting: series-00000/image-00106.dcm  \n",
            " extracting: series-00000/image-00090.dcm  \n",
            " extracting: series-00000/image-00224.dcm  \n",
            " extracting: series-00000/image-00003.dcm  \n",
            " extracting: series-00000/image-00142.dcm  \n",
            " extracting: series-00000/image-00304.dcm  \n",
            " extracting: series-00000/image-00136.dcm  \n",
            " extracting: series-00000/image-00359.dcm  \n",
            " extracting: series-00000/image-00195.dcm  \n",
            " extracting: series-00000/image-00255.dcm  \n",
            " extracting: series-00000/image-00111.dcm  \n",
            " extracting: series-00000/image-00330.dcm  \n",
            " extracting: series-00000/image-00109.dcm  \n",
            " extracting: series-00000/image-00072.dcm  \n",
            " extracting: series-00000/image-00181.dcm  \n",
            " extracting: series-00000/image-00135.dcm  \n",
            " extracting: series-00000/image-00100.dcm  \n",
            " extracting: series-00000/image-00018.dcm  \n",
            " extracting: series-00000/image-00169.dcm  \n",
            " extracting: series-00000/image-00077.dcm  \n",
            " extracting: series-00000/image-00284.dcm  \n",
            " extracting: series-00000/image-00087.dcm  \n",
            " extracting: series-00000/image-00152.dcm  \n",
            " extracting: series-00000/image-00354.dcm  \n",
            " extracting: series-00000/image-00200.dcm  \n",
            " extracting: series-00000/image-00102.dcm  \n",
            " extracting: series-00000/image-00085.dcm  \n",
            " extracting: series-00000/image-00238.dcm  \n",
            " extracting: series-00000/image-00245.dcm  \n",
            " extracting: series-00000/image-00214.dcm  \n",
            " extracting: series-00000/image-00227.dcm  \n",
            " extracting: series-00000/image-00240.dcm  \n",
            " extracting: series-00000/image-00172.dcm  \n",
            " extracting: series-00000/image-00141.dcm  \n",
            " extracting: series-00000/image-00119.dcm  \n",
            " extracting: series-00000/image-00048.dcm  \n",
            " extracting: series-00000/image-00196.dcm  \n",
            " extracting: series-00000/image-00113.dcm  \n",
            " extracting: series-00000/image-00311.dcm  \n",
            " extracting: series-00000/image-00099.dcm  \n",
            " extracting: series-00000/image-00047.dcm  \n",
            " extracting: series-00000/image-00063.dcm  \n",
            " extracting: series-00000/image-00352.dcm  \n",
            " extracting: series-00000/image-00334.dcm  \n",
            " extracting: series-00000/image-00009.dcm  \n",
            " extracting: series-00000/image-00327.dcm  \n",
            " extracting: series-00000/image-00089.dcm  \n",
            " extracting: series-00000/image-00318.dcm  \n",
            " extracting: series-00000/image-00295.dcm  \n",
            " extracting: series-00000/image-00055.dcm  \n",
            " extracting: series-00000/image-00155.dcm  \n",
            " extracting: series-00000/image-00008.dcm  \n",
            " extracting: series-00000/image-00313.dcm  \n",
            " extracting: series-00000/image-00168.dcm  \n",
            " extracting: series-00000/image-00180.dcm  \n",
            " extracting: series-00000/image-00080.dcm  \n",
            " extracting: series-00000/image-00342.dcm  \n",
            " extracting: series-00000/image-00276.dcm  \n",
            " extracting: series-00000/image-00032.dcm  \n",
            " extracting: series-00000/image-00004.dcm  \n",
            " extracting: series-00000/image-00259.dcm  \n",
            " extracting: series-00000/image-00138.dcm  \n",
            " extracting: series-00000/image-00050.dcm  \n",
            " extracting: series-00000/image-00349.dcm  \n",
            " extracting: series-00000/image-00232.dcm  \n",
            " extracting: series-00000/image-00273.dcm  \n",
            " extracting: series-00000/image-00344.dcm  \n",
            " extracting: series-00000/image-00130.dcm  \n",
            " extracting: series-00000/image-00164.dcm  \n",
            " extracting: series-00000/image-00127.dcm  \n",
            " extracting: series-00000/image-00076.dcm  \n",
            " extracting: series-00000/image-00148.dcm  \n",
            " extracting: series-00000/image-00088.dcm  \n",
            " extracting: series-00000/image-00197.dcm  \n",
            " extracting: series-00000/image-00198.dcm  \n",
            " extracting: series-00000/image-00294.dcm  \n",
            " extracting: series-00000/image-00289.dcm  \n",
            " extracting: series-00000/image-00179.dcm  \n",
            " extracting: series-00000/image-00167.dcm  \n",
            " extracting: series-00000/image-00188.dcm  \n",
            " extracting: series-00000/image-00270.dcm  \n",
            " extracting: series-00000/image-00250.dcm  \n",
            " extracting: series-00000/image-00191.dcm  \n",
            " extracting: series-00000/image-00258.dcm  \n",
            " extracting: series-00000/image-00149.dcm  \n",
            " extracting: series-00000/image-00355.dcm  \n",
            " extracting: series-00000/image-00029.dcm  \n",
            " extracting: series-00000/image-00194.dcm  \n",
            " extracting: series-00000/image-00301.dcm  \n",
            " extracting: series-00000/image-00236.dcm  \n",
            " extracting: series-00000/image-00019.dcm  \n",
            " extracting: series-00000/image-00233.dcm  \n",
            " extracting: series-00000/image-00319.dcm  \n",
            " extracting: series-00000/image-00306.dcm  \n",
            " extracting: series-00000/image-00217.dcm  \n",
            " extracting: series-00000/image-00037.dcm  \n",
            " extracting: series-00000/image-00298.dcm  \n",
            " extracting: series-00000/image-00204.dcm  \n",
            " extracting: series-00000/image-00338.dcm  \n",
            " extracting: series-00000/image-00296.dcm  \n",
            " extracting: series-00000/image-00041.dcm  \n",
            " extracting: series-00000/image-00031.dcm  \n",
            " extracting: series-00000/image-00201.dcm  \n",
            " extracting: series-00000/image-00030.dcm  \n",
            " extracting: series-00000/image-00275.dcm  \n",
            " extracting: series-00000/image-00156.dcm  \n",
            " extracting: series-00000/image-00012.dcm  \n",
            " extracting: series-00000/image-00026.dcm  \n",
            " extracting: series-00000/image-00246.dcm  \n",
            " extracting: series-00000/image-00070.dcm  \n",
            " extracting: series-00000/image-00058.dcm  \n",
            " extracting: series-00000/image-00203.dcm  \n",
            " extracting: series-00000/image-00145.dcm  \n",
            " extracting: series-00000/image-00297.dcm  \n",
            " extracting: series-00000/image-00045.dcm  \n",
            " extracting: series-00000/image-00036.dcm  \n",
            " extracting: series-00000/image-00347.dcm  \n",
            " extracting: series-00000/image-00114.dcm  \n",
            " extracting: series-00000/image-00132.dcm  \n",
            " extracting: series-00000/image-00024.dcm  \n",
            " extracting: series-00000/image-00279.dcm  \n",
            " extracting: series-00000/image-00287.dcm  \n",
            " extracting: series-00000/image-00174.dcm  \n",
            " extracting: series-00000/image-00322.dcm  \n",
            " extracting: series-00000/image-00226.dcm  \n",
            " extracting: series-00000/image-00305.dcm  \n",
            " extracting: series-00000/image-00292.dcm  \n",
            " extracting: series-00000/image-00215.dcm  \n",
            " extracting: series-00000/image-00040.dcm  \n",
            " extracting: series-00000/image-00331.dcm  \n",
            " extracting: series-00000/image-00340.dcm  \n",
            " extracting: series-00000/image-00118.dcm  \n",
            " extracting: series-00000/image-00249.dcm  \n",
            " extracting: series-00000/image-00176.dcm  \n",
            " extracting: series-00000/image-00044.dcm  \n",
            " extracting: series-00000/image-00104.dcm  \n",
            " extracting: series-00000/image-00140.dcm  \n",
            " extracting: series-00000/image-00243.dcm  \n",
            " extracting: series-00000/image-00110.dcm  \n",
            " extracting: series-00000/image-00182.dcm  \n",
            " extracting: series-00000/image-00285.dcm  \n",
            " extracting: series-00000/image-00247.dcm  \n",
            " extracting: series-00000/image-00013.dcm  \n",
            " extracting: series-00000/image-00348.dcm  \n",
            " extracting: series-00000/image-00086.dcm  \n",
            " extracting: series-00000/image-00324.dcm  \n",
            " extracting: series-00000/image-00066.dcm  \n",
            " extracting: series-00000/image-00021.dcm  \n",
            " extracting: series-00000/image-00272.dcm  \n",
            " extracting: series-00000/image-00134.dcm  \n",
            " extracting: series-00000/image-00137.dcm  \n",
            " extracting: series-00000/image-00028.dcm  \n",
            " extracting: series-00000/image-00123.dcm  \n",
            " extracting: series-00000/image-00000.dcm  \n",
            " extracting: series-00000/image-00117.dcm  \n",
            " extracting: series-00000/image-00242.dcm  \n",
            " extracting: series-00000/image-00302.dcm  \n",
            " extracting: series-00000/image-00225.dcm  \n",
            " extracting: series-00000/image-00208.dcm  \n",
            " extracting: series-00000/image-00126.dcm  \n",
            " extracting: series-00000/image-00082.dcm  \n",
            " extracting: series-00000/image-00177.dcm  \n",
            " extracting: series-00000/image-00092.dcm  \n",
            " extracting: series-00000/image-00125.dcm  \n",
            " extracting: series-00000/image-00083.dcm  \n",
            " extracting: series-00000/image-00192.dcm  \n",
            " extracting: series-00000/image-00308.dcm  \n",
            " extracting: series-00000/image-00095.dcm  \n",
            " extracting: series-00000/image-00274.dcm  \n",
            " extracting: series-00000/image-00027.dcm  \n",
            " extracting: series-00000/image-00315.dcm  \n",
            " extracting: series-00000/image-00293.dcm  \n",
            " extracting: series-00000/image-00244.dcm  \n",
            " extracting: series-00000/image-00061.dcm  \n",
            " extracting: series-00000/image-00321.dcm  \n",
            " extracting: series-00000/image-00091.dcm  \n",
            " extracting: series-00000/image-00183.dcm  \n",
            " extracting: series-00000/image-00002.dcm  \n",
            " extracting: series-00000/image-00153.dcm  \n",
            " extracting: series-00000/image-00165.dcm  \n",
            " extracting: series-00000/image-00351.dcm  \n",
            " extracting: series-00000/image-00098.dcm  \n",
            " extracting: series-00000/image-00073.dcm  \n",
            " extracting: series-00000/image-00173.dcm  \n",
            " extracting: series-00000/image-00280.dcm  \n",
            " extracting: series-00000/image-00345.dcm  \n",
            " extracting: series-00000/image-00218.dcm  \n",
            " extracting: series-00000/image-00328.dcm  \n",
            " extracting: series-00000/image-00212.dcm  \n",
            " extracting: series-00000/image-00193.dcm  \n",
            " extracting: series-00000/image-00097.dcm  \n",
            " extracting: series-00000/image-00268.dcm  \n",
            " extracting: series-00000/image-00213.dcm  \n",
            " extracting: series-00000/image-00190.dcm  \n",
            " extracting: series-00000/image-00128.dcm  \n",
            " extracting: series-00000/image-00185.dcm  \n",
            " extracting: series-00000/image-00049.dcm  \n",
            " extracting: series-00000/image-00231.dcm  \n",
            " extracting: series-00000/image-00146.dcm  \n",
            " extracting: series-00000/image-00020.dcm  \n",
            " extracting: series-00000/image-00042.dcm  \n",
            " extracting: series-00000/image-00253.dcm  \n",
            " extracting: series-00000/image-00147.dcm  \n",
            " extracting: series-00000/image-00336.dcm  \n",
            " extracting: series-00000/image-00210.dcm  \n",
            " extracting: series-00000/image-00154.dcm  \n",
            " extracting: series-00000/image-00069.dcm  \n",
            " extracting: series-00000/image-00001.dcm  \n",
            " extracting: series-00000/image-00262.dcm  \n",
            " extracting: series-00000/image-00229.dcm  \n",
            " extracting: series-00000/image-00053.dcm  \n",
            " extracting: series-00000/image-00353.dcm  \n",
            " extracting: series-00000/image-00261.dcm  \n",
            " extracting: series-00000/image-00160.dcm  \n",
            " extracting: series-00000/image-00325.dcm  \n",
            " extracting: series-00000/image-00023.dcm  \n",
            " extracting: series-00000/image-00081.dcm  \n",
            " extracting: series-00000/image-00007.dcm  \n",
            " extracting: series-00000/image-00015.dcm  \n",
            " extracting: series-00000/image-00266.dcm  \n",
            " extracting: series-00000/image-00205.dcm  \n",
            " extracting: series-00000/image-00035.dcm  \n",
            " extracting: series-00000/image-00230.dcm  \n",
            " extracting: series-00000/image-00343.dcm  \n",
            " extracting: series-00000/image-00320.dcm  \n",
            " extracting: series-00000/image-00264.dcm  \n",
            " extracting: series-00000/image-00282.dcm  \n",
            " extracting: series-00000/image-00157.dcm  \n",
            " extracting: series-00000/image-00277.dcm  \n",
            " extracting: series-00000/image-00235.dcm  \n",
            " extracting: series-00000/image-00131.dcm  \n",
            " extracting: series-00000/image-00303.dcm  \n",
            " extracting: series-00000/image-00221.dcm  \n",
            " extracting: series-00000/image-00234.dcm  \n",
            " extracting: series-00000/image-00312.dcm  \n",
            " extracting: series-00000/image-00161.dcm  \n",
            " extracting: series-00000/image-00034.dcm  \n",
            " extracting: series-00000/image-00309.dcm  \n",
            " extracting: series-00000/image-00265.dcm  \n",
            " extracting: series-00000/image-00178.dcm  \n",
            " extracting: series-00000/image-00133.dcm  \n"
          ]
        }
      ]
    },
    {
      "cell_type": "code",
      "source": [
        "import numpy as np\n",
        "import matplotlib.pyplot as plt"
      ],
      "metadata": {
        "id": "Nfa9Air80ePE"
      },
      "execution_count": 18,
      "outputs": []
    },
    {
      "cell_type": "code",
      "source": [
        "%matplotlib inline"
      ],
      "metadata": {
        "id": "l1qbivBX0k8V"
      },
      "execution_count": 19,
      "outputs": []
    },
    {
      "cell_type": "code",
      "source": [
        "test_load = nib.load('/content/masks/spleen.nii.gz').get_fdata()\n",
        "test_load.shape"
      ],
      "metadata": {
        "colab": {
          "base_uri": "https://localhost:8080/"
        },
        "id": "-hQzXY9Z0oYA",
        "outputId": "e1a3b2ad-ec45-4f99-8164-8f06f1108e1e"
      },
      "execution_count": 20,
      "outputs": [
        {
          "output_type": "execute_result",
          "data": {
            "text/plain": [
              "(512, 512, 361)"
            ]
          },
          "metadata": {},
          "execution_count": 20
        }
      ]
    },
    {
      "cell_type": "code",
      "source": [
        "test = test_load[:,:,300]\n",
        "plt.imshow(test)\n",
        "plt.show()"
      ],
      "metadata": {
        "colab": {
          "base_uri": "https://localhost:8080/",
          "height": 435
        },
        "id": "lh6CD_-10v62",
        "outputId": "29e665f7-31b5-4958-cdc4-d7edd15166a8"
      },
      "execution_count": 32,
      "outputs": [
        {
          "output_type": "display_data",
          "data": {
            "text/plain": [
              "<Figure size 640x480 with 1 Axes>"
            ],
            "image/png": "[encoded data removed]"
          },
          "metadata": {}
        }
      ]
    },
    {
      "cell_type": "code",
      "source": [
        "for i in range(5):\n",
        "    plt.subplot(5, 5,i + 1)\n",
        "    plt.imshow(test_load[:,:,355 + i])\n",
        "    plt.gcf().set_size_inches(10, 10)\n",
        "plt.show()"
      ],
      "metadata": {
        "colab": {
          "base_uri": "https://localhost:8080/",
          "height": 154
        },
        "id": "ZOoWyY7R00K-",
        "outputId": "03731cf7-554d-4262-8f7f-4892ecb0920d"
      },
      "execution_count": 27,
      "outputs": [
        {
          "output_type": "display_data",
          "data": {
            "text/plain": [
              "<Figure size 1000x1000 with 5 Axes>"
            ],
            "image/png": "[encoded data removed]"
          },
          "metadata": {}
        }
      ]
    },
    {
      "cell_type": "code",
      "source": [
        "!pwd"
      ],
      "metadata": {
        "colab": {
          "base_uri": "https://localhost:8080/"
        },
        "id": "STdqOmnWZCh5",
        "outputId": "b035317b-4120-47b2-8a84-a3cf8430e0d7"
      },
      "execution_count": null,
      "outputs": [
        {
          "output_type": "stream",
          "name": "stdout",
          "text": [
            "/content\n"
          ]
        }
      ]
    },
    {
      "cell_type": "markdown",
      "source": [
        "https://www.dicomlibrary.com/"
      ],
      "metadata": {
        "id": "4585hTsJcvex"
      }
    },
    {
      "cell_type": "code",
      "source": [
        "totalsegmentator(\"/content/Anonymized_20240929.zip\", \".\")"
      ],
      "metadata": {
        "colab": {
          "base_uri": "https://localhost:8080/",
          "height": 551,
          "referenced_widgets": [
            "273bb26698eb4dc1b07675bd9a10ecda",
            "5e89ee3eca3f4e4da1ec3b764ed21029",
            "2c848d65537c47fdbf70bbb409abc139",
            "5819decc8f294decaecc4067fb8a3bbf",
            "63f038af1bb44bf490ad78fc5735c43e",
            "11d6b2ecced5492fa2ef32dc3bec3395",
            "32069f6f467d46d38e7d53ad6c50daa3",
            "7e23b4662fec413aa31461d7908c215a",
            "e64e4da005f8443aa7dd1f97453b7f1a",
            "5afd93ad8a134aaa81bf30a4be09dcb3",
            "c500ae3bab974c2995861aa04f08f2d3"
          ]
        },
        "id": "XgkgBAPNYzf7",
        "outputId": "a9202994-d812-467d-f33c-fc9a479247d1"
      },
      "execution_count": null,
      "outputs": [
        {
          "output_type": "stream",
          "name": "stdout",
          "text": [
            "\n",
            "If you use this tool please cite: https://pubs.rsna.org/doi/10.1148/ryai.230024\n",
            "\n",
            "Converting dicom to nifti...\n"
          ]
        },
        {
          "output_type": "stream",
          "name": "stderr",
          "text": [
            "\rDownloading:  50%|████▉     | 117M/234M [03:46<03:46, 515kB/s] \n"
          ]
        },
        {
          "output_type": "stream",
          "name": "stdout",
          "text": [
            "  found image with shape (512, 512, 361)\n",
            "Resampling...\n",
            "  Resampled in 5.44s\n",
            "Predicting part 1 of 5 ...\n"
          ]
        },
        {
          "output_type": "stream",
          "name": "stderr",
          "text": [
            "/usr/local/lib/python3.10/dist-packages/nnunetv2/inference/predict_from_raw_data.py:84: FutureWarning: You are using `torch.load` with `weights_only=False` (the current default value), which uses the default pickle module implicitly. It is possible to construct malicious pickle data which will execute arbitrary code during unpickling (See https://github.com/pytorch/pytorch/blob/main/SECURITY.md#untrusted-models for more details). In a future release, the default value for `weights_only` will be flipped to `True`. This limits the functions that could be executed during unpickling. Arbitrary objects will no longer be allowed to be loaded via this mode unless they are explicitly allowlisted by the user via `torch.serialization.add_safe_globals`. We recommend you start setting `weights_only=True` for any use case where you don't have full control of the loaded file. Please open an issue on GitHub for any issues related to this experimental feature.\n",
            "  checkpoint = torch.load(join(model_training_output_dir, f'fold_{f}', checkpoint_name),\n",
            "100%|██████████| 4/4 [00:03<00:00,  1.15it/s]\n"
          ]
        },
        {
          "output_type": "stream",
          "name": "stdout",
          "text": [
            "Predicting part 2 of 5 ...\n"
          ]
        },
        {
          "output_type": "stream",
          "name": "stderr",
          "text": [
            "/usr/local/lib/python3.10/dist-packages/nnunetv2/inference/predict_from_raw_data.py:84: FutureWarning: You are using `torch.load` with `weights_only=False` (the current default value), which uses the default pickle module implicitly. It is possible to construct malicious pickle data which will execute arbitrary code during unpickling (See https://github.com/pytorch/pytorch/blob/main/SECURITY.md#untrusted-models for more details). In a future release, the default value for `weights_only` will be flipped to `True`. This limits the functions that could be executed during unpickling. Arbitrary objects will no longer be allowed to be loaded via this mode unless they are explicitly allowlisted by the user via `torch.serialization.add_safe_globals`. We recommend you start setting `weights_only=True` for any use case where you don't have full control of the loaded file. Please open an issue on GitHub for any issues related to this experimental feature.\n",
            "  checkpoint = torch.load(join(model_training_output_dir, f'fold_{f}', checkpoint_name),\n",
            "100%|██████████| 4/4 [00:00<00:00, 13.48it/s]\n"
          ]
        },
        {
          "output_type": "stream",
          "name": "stdout",
          "text": [
            "Predicting part 3 of 5 ...\n"
          ]
        },
        {
          "output_type": "stream",
          "name": "stderr",
          "text": [
            "100%|██████████| 4/4 [00:00<00:00, 16.73it/s]\n"
          ]
        },
        {
          "output_type": "stream",
          "name": "stdout",
          "text": [
            "Predicting part 4 of 5 ...\n"
          ]
        },
        {
          "output_type": "stream",
          "name": "stderr",
          "text": [
            "100%|██████████| 4/4 [00:00<00:00, 14.57it/s]\n"
          ]
        },
        {
          "output_type": "stream",
          "name": "stdout",
          "text": [
            "Predicting part 5 of 5 ...\n"
          ]
        },
        {
          "output_type": "stream",
          "name": "stderr",
          "text": [
            "100%|██████████| 4/4 [00:00<00:00, 80.88it/s]\n"
          ]
        },
        {
          "output_type": "stream",
          "name": "stdout",
          "text": [
            "  Predicted in 75.54s\n",
            "Resampling...\n",
            "Saving segmentations...\n"
          ]
        },
        {
          "output_type": "display_data",
          "data": {
            "text/plain": [
              "  0%|          | 0/117 [00:00<?, ?it/s]"
            ],
            "application/vnd.jupyter.widget-view+json": {
              "version_major": 2,
              "version_minor": 0,
              "model_id": "273bb26698eb4dc1b07675bd9a10ecda"
            }
          },
          "metadata": {}
        },
        {
          "output_type": "stream",
          "name": "stdout",
          "text": [
            "  Saved in 110.78s\n"
          ]
        },
        {
          "output_type": "execute_result",
          "data": {
            "text/plain": [
              "<nibabel.nifti1.Nifti1Image at 0x7ce9673bd6f0>"
            ]
          },
          "metadata": {},
          "execution_count": 5
        }
      ]
    },
    {
      "cell_type": "code",
      "source": [
        "if __name__ == \"__main__\":\n",
        "    # option 1: provide input and output as file paths\n",
        "    #totalsegmentator(input_path, output_path)\n",
        "\n",
        "    # option 2: provide input and output as nifti image objects\n",
        "    #input_img = nib.load(input_path)\n",
        "    #output_img = totalsegmentator(input_img)\n",
        "    #nib.save(output_img, output_path)"
      ],
      "metadata": {
        "id": "4mOl68dqYmAM"
      },
      "execution_count": null,
      "outputs": []
    },
    {
      "cell_type": "code",
      "source": [
        "!mkdir abdomen_seg"
      ],
      "metadata": {
        "id": "oMGgvqpykrrw"
      },
      "execution_count": null,
      "outputs": []
    },
    {
      "cell_type": "code",
      "source": [
        "!TotalSegmentator -i /content/Anonymized_20240929.zip -o abdomen_seg --task total"
      ],
      "metadata": {
        "colab": {
          "base_uri": "https://localhost:8080/"
        },
        "id": "jHxJJ22WkewE",
        "outputId": "e765e60f-50cb-47e4-b9ea-7ea6f2c06642"
      },
      "execution_count": null,
      "outputs": [
        {
          "output_type": "stream",
          "name": "stdout",
          "text": [
            "\n",
            "If you use this tool please cite: https://pubs.rsna.org/doi/10.1148/ryai.230024\n",
            "\n",
            "Converting dicom to nifti...\n",
            "  found image with shape (512, 512, 361)\n",
            "Resampling...\n",
            "  Resampled in 5.74s\n",
            "Predicting part 1 of 5 ...\n",
            "/usr/local/lib/python3.10/dist-packages/nnunetv2/inference/predict_from_raw_data.py:84: FutureWarning: You are using `torch.load` with `weights_only=False` (the current default value), which uses the default pickle module implicitly. It is possible to construct malicious pickle data which will execute arbitrary code during unpickling (See https://github.com/pytorch/pytorch/blob/main/SECURITY.md#untrusted-models for more details). In a future release, the default value for `weights_only` will be flipped to `True`. This limits the functions that could be executed during unpickling. Arbitrary objects will no longer be allowed to be loaded via this mode unless they are explicitly allowlisted by the user via `torch.serialization.add_safe_globals`. We recommend you start setting `weights_only=True` for any use case where you don't have full control of the loaded file. Please open an issue on GitHub for any issues related to this experimental feature.\n",
            "  checkpoint = torch.load(join(model_training_output_dir, f'fold_{f}', checkpoint_name),\n",
            "100% 4/4 [00:02<00:00,  1.41it/s]\n",
            "Predicting part 2 of 5 ...\n",
            "/usr/local/lib/python3.10/dist-packages/nnunetv2/inference/predict_from_raw_data.py:84: FutureWarning: You are using `torch.load` with `weights_only=False` (the current default value), which uses the default pickle module implicitly. It is possible to construct malicious pickle data which will execute arbitrary code during unpickling (See https://github.com/pytorch/pytorch/blob/main/SECURITY.md#untrusted-models for more details). In a future release, the default value for `weights_only` will be flipped to `True`. This limits the functions that could be executed during unpickling. Arbitrary objects will no longer be allowed to be loaded via this mode unless they are explicitly allowlisted by the user via `torch.serialization.add_safe_globals`. We recommend you start setting `weights_only=True` for any use case where you don't have full control of the loaded file. Please open an issue on GitHub for any issues related to this experimental feature.\n",
            "  checkpoint = torch.load(join(model_training_output_dir, f'fold_{f}', checkpoint_name),\n",
            "100% 4/4 [00:00<00:00, 13.28it/s]\n",
            "Predicting part 3 of 5 ...\n",
            "100% 4/4 [00:00<00:00, 14.85it/s]\n",
            "Predicting part 4 of 5 ...\n",
            "100% 4/4 [00:00<00:00, 15.31it/s]\n",
            "Predicting part 5 of 5 ...\n",
            "100% 4/4 [00:00<00:00, 81.92it/s]\n",
            "  Predicted in 151.10s\n",
            "Resampling...\n",
            "Saving segmentations...\n",
            "100% 117/117 [01:49<00:00,  1.06it/s]\n",
            "  Saved in 111.67s\n"
          ]
        }
      ]
    }
  ]
}